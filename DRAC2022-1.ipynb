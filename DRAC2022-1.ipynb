{
 "cells": [
  {
   "cell_type": "markdown",
   "metadata": {},
   "source": [
    "# DRAC2022 Task1 Segmentation\n",
    "## Data prepare"
   ]
  },
  {
   "cell_type": "code",
   "execution_count": 16,
   "metadata": {},
   "outputs": [
    {
     "name": "stdout",
     "output_type": "stream",
     "text": [
      "Filtering and copying complete.\n"
     ]
    }
   ],
   "source": [
    "import os\n",
    "import shutil\n",
    "from glob import glob\n",
    "import cv2\n",
    "import numpy as np\n",
    "from tqdm import tqdm\n",
    "\n",
    "# 设置图片和掩码的路径\n",
    "image_dir = './inputs/DRAC-Segmentation/1. Original Images/a. Training Set'\n",
    "mask_dir = './inputs/DRAC-Segmentation/2. Groundtruths/a. Training Set/1. Intraretinal Microvascular Abnormalities'\n",
    "output_dir = './inputs/DRAC-Segmentation/1. Original Images/1. Training Set'\n",
    "\n",
    "# 确保输出目录存在\n",
    "os.makedirs(output_dir, exist_ok=True)\n",
    "\n",
    "# 读取掩码文件名\n",
    "mask_files = glob(os.path.join(mask_dir, '*.png'))  # 假设掩码扩展名为.png\n",
    "mask_basenames = {os.path.splitext(os.path.basename(mask))[0] for mask in mask_files}\n",
    "\n",
    "# 遍历图片文件\n",
    "image_files = glob(os.path.join(image_dir, '*.png'))  # 假设图片扩展名为.png\n",
    "for image_path in image_files:\n",
    "    image_basename = os.path.splitext(os.path.basename(image_path))[0]\n",
    "    \n",
    "    # 如果图片的基本名在掩码文件名集中，表示两者匹配\n",
    "    if image_basename in mask_basenames:\n",
    "        # 复制文件到输出目录\n",
    "        shutil.copy(image_path, os.path.join(output_dir, os.path.basename(image_path)))\n",
    "    else:\n",
    "        pass\n",
    "\n",
    "print(\"Filtering and copying complete.\")"
   ]
  },
  {
   "cell_type": "code",
   "execution_count": 17,
   "metadata": {},
   "outputs": [
    {
     "name": "stderr",
     "output_type": "stream",
     "text": [
      "100%|██████████| 86/86 [00:05<00:00, 14.71it/s]\n"
     ]
    }
   ],
   "source": [
    "img_size = 1024\n",
    "\n",
    "image_dir = './inputs/DRAC-Segmentation/1. Original Images/1. Training Set'\n",
    "mask_dir = './inputs/DRAC-Segmentation/2. Groundtruths/a. Training Set/1. Intraretinal Microvascular Abnormalities'\n",
    "\n",
    "os.makedirs('./inputs/DRAC2022/1.IMA/train/images', exist_ok=True)\n",
    "os.makedirs('./inputs/DRAC2022/1.IMA/train/masks/0', exist_ok=True)\n",
    "\n",
    "image_paths = glob(os.path.join(image_dir, '*'))\n",
    "\n",
    "for imgpath in tqdm(image_paths):\n",
    "    img = cv2.imread(imgpath)\n",
    "\n",
    "    # 根据图像文件名找到对应的掩码文件\n",
    "    base_name = os.path.splitext(os.path.basename(imgpath))[0]\n",
    "    mask_path = glob(os.path.join(mask_dir, base_name + '.png'))  # 假设掩码文件名与图像文件名匹配\n",
    "\n",
    "    if mask_path:  # 确保找到了掩码文件\n",
    "        mask_path = mask_path[0]\n",
    "        mask = cv2.imread(mask_path, cv2.IMREAD_GRAYSCALE)\n",
    "        mask_ = cv2.imread(mask_path, cv2.IMREAD_GRAYSCALE) > 127  # 读取并二值化掩码文件，生成布尔矩阵\n",
    "        mask[mask_] = 1  # 将对应位置的零矩阵更新为1，表示掩码区域\n",
    "        if len(img.shape) == 2:\n",
    "            img = np.tile(img[..., None], (1, 1, 3))\n",
    "        if img.shape[2] == 4:\n",
    "            img = img[..., :3]\n",
    "\n",
    "        img = cv2.resize(img, (img_size, img_size))\n",
    "        mask = cv2.resize(mask, (img_size, img_size))\n",
    "\n",
    "        cv2.imwrite(os.path.join('inputs/DRAC2022/1.IMA/train/images', os.path.basename(imgpath)), img)\n",
    "        cv2.imwrite(os.path.join('inputs/DRAC2022/1.IMA/train/masks/0', base_name + '.png'), (mask * 255).astype('uint8'))\n",
    "    else:\n",
    "        print(f\"No matching mask found for {imgpath}\")"
   ]
  },
  {
   "cell_type": "markdown",
   "metadata": {},
   "source": [
    "## Train Process"
   ]
  },
  {
   "cell_type": "code",
   "execution_count": 25,
   "metadata": {},
   "outputs": [
    {
     "name": "stdout",
     "output_type": "stream",
     "text": [
      "--------------------\n",
      "name: DRAC2022/1.IMA/train_NestedUNet_woDS\n",
      "epochs: 100\n",
      "batch_size: 1\n",
      "arch: NestedUNet\n",
      "deep_supervision: False\n",
      "input_channels: 3\n",
      "num_classes: 1\n",
      "input_w: 1024\n",
      "input_h: 1024\n",
      "loss: DiceLoss\n",
      "dataset: DRAC2022/1.IMA/train\n",
      "img_ext: .png\n",
      "mask_ext: .png\n",
      "optimizer: Adam\n",
      "lr: 0.0001\n",
      "momentum: 0.9\n",
      "weight_decay: 0.0001\n",
      "nesterov: False\n",
      "scheduler: MultiStepLR\n",
      "min_lr: 1e-09\n",
      "factor: 0.1\n",
      "patience: 2\n",
      "milestones: 25\n",
      "gamma: 0.1\n",
      "early_stopping: -1\n",
      "weights: ./models/DRAC2022/1.IMA/train_NestedUNet_woDS/new-model_epoch_40_loss_0.8793_iou_0.2400.pth\n",
      "num_workers: 4\n",
      "--------------------\n",
      "=> creating model NestedUNet\n",
      "=> loaded weights from './models/DRAC2022/1.IMA/train_NestedUNet_woDS/new-model_epoch_40_loss_0.8793_iou_0.2400.pth'\n",
      "Epoch [0/100]\n",
      "  0%|                                                    | 0/68 [00:00<?, ?it/s]/home/zhouxvdong/.conda/envs/neunet/lib/python3.10/site-packages/torch/nn/modules/conv.py:456: UserWarning: Applied workaround for CuDNN issue, install nvrtc.so (Triggered internally at ../aten/src/ATen/native/cudnn/Conv_v8.cpp:80.)\n",
      "  return F.conv2d(input, weight, bias, self.stride,\n",
      "100%|█████████████████████| 68/68 [00:25<00:00,  2.70it/s, loss=0.88, iou=0.123]\n",
      "100%|████████████████████| 18/18 [00:01<00:00,  9.30it/s, loss=0.918, iou=0.136]\n",
      "loss 0.8800 - iou 0.1232 - val_loss 0.9184 - val_iou 0.1362\n",
      "=> saved best model\n",
      "Epoch [1/100]\n",
      "100%|█████████████████████| 68/68 [00:18<00:00,  3.61it/s, loss=0.88, iou=0.124]\n",
      "100%|████████████████████| 18/18 [00:01<00:00,  9.34it/s, loss=0.891, iou=0.146]\n",
      "loss 0.8797 - iou 0.1241 - val_loss 0.8914 - val_iou 0.1460\n",
      "=> saved best model\n",
      "Epoch [2/100]\n",
      "100%|█████████████████████| 68/68 [00:19<00:00,  3.54it/s, loss=0.86, iou=0.145]\n",
      "100%|████████████████████| 18/18 [00:01<00:00,  9.28it/s, loss=0.883, iou=0.148]\n",
      "loss 0.8596 - iou 0.1453 - val_loss 0.8834 - val_iou 0.1483\n",
      "=> saved best model\n",
      "Epoch [3/100]\n",
      "100%|████████████████████| 68/68 [00:18<00:00,  3.59it/s, loss=0.856, iou=0.142]\n",
      "100%|████████████████████| 18/18 [00:01<00:00,  9.15it/s, loss=0.879, iou=0.127]\n",
      "loss 0.8556 - iou 0.1417 - val_loss 0.8786 - val_iou 0.1266\n",
      "Epoch [4/100]\n",
      "100%|████████████████████| 68/68 [00:19<00:00,  3.57it/s, loss=0.854, iou=0.141]\n",
      "100%|████████████████████| 18/18 [00:01<00:00,  9.44it/s, loss=0.858, iou=0.152]\n",
      "loss 0.8537 - iou 0.1413 - val_loss 0.8585 - val_iou 0.1521\n",
      "=> saved best model\n",
      "Epoch [5/100]\n",
      "100%|████████████████████| 68/68 [00:18<00:00,  3.59it/s, loss=0.847, iou=0.153]\n",
      "100%|████████████████████| 18/18 [00:01<00:00,  9.18it/s, loss=0.882, iou=0.101]\n",
      "loss 0.8471 - iou 0.1528 - val_loss 0.8822 - val_iou 0.1011\n",
      "Epoch [6/100]\n",
      "100%|████████████████████| 68/68 [00:19<00:00,  3.56it/s, loss=0.845, iou=0.148]\n",
      "100%|█████████████████████| 18/18 [00:01<00:00,  9.03it/s, loss=0.854, iou=0.14]\n",
      "loss 0.8453 - iou 0.1483 - val_loss 0.8543 - val_iou 0.1403\n",
      "Epoch [7/100]\n",
      "100%|████████████████████| 68/68 [00:19<00:00,  3.56it/s, loss=0.836, iou=0.157]\n",
      "100%|█████████████████████| 18/18 [00:01<00:00,  9.38it/s, loss=0.87, iou=0.166]\n",
      "loss 0.8360 - iou 0.1574 - val_loss 0.8700 - val_iou 0.1665\n",
      "=> saved best model\n",
      "Epoch [8/100]\n",
      "100%|████████████████████| 68/68 [00:19<00:00,  3.54it/s, loss=0.822, iou=0.167]\n",
      "100%|████████████████████| 18/18 [00:01<00:00,  9.39it/s, loss=0.873, iou=0.155]\n",
      "loss 0.8222 - iou 0.1670 - val_loss 0.8734 - val_iou 0.1545\n",
      "Epoch [9/100]\n",
      "100%|████████████████████| 68/68 [00:18<00:00,  3.59it/s, loss=0.826, iou=0.153]\n",
      "100%|████████████████████| 18/18 [00:01<00:00,  9.27it/s, loss=0.873, iou=0.135]\n",
      "loss 0.8264 - iou 0.1529 - val_loss 0.8727 - val_iou 0.1347\n",
      "Epoch [10/100]\n",
      "100%|████████████████████| 68/68 [00:19<00:00,  3.54it/s, loss=0.809, iou=0.176]\n",
      "100%|████████████████████| 18/18 [00:01<00:00,  9.29it/s, loss=0.864, iou=0.122]\n",
      "loss 0.8095 - iou 0.1765 - val_loss 0.8640 - val_iou 0.1218\n",
      "Epoch [11/100]\n",
      "100%|████████████████████| 68/68 [00:19<00:00,  3.50it/s, loss=0.808, iou=0.173]\n",
      "100%|████████████████████| 18/18 [00:01<00:00,  9.34it/s, loss=0.827, iou=0.157]\n",
      "loss 0.8082 - iou 0.1733 - val_loss 0.8266 - val_iou 0.1566\n",
      "Epoch [12/100]\n",
      "100%|█████████████████████| 68/68 [00:18<00:00,  3.58it/s, loss=0.81, iou=0.166]\n",
      "100%|███████████████████| 18/18 [00:01<00:00,  9.02it/s, loss=0.871, iou=0.0923]\n",
      "loss 0.8097 - iou 0.1664 - val_loss 0.8711 - val_iou 0.0923\n",
      "Epoch [13/100]\n",
      " 18%|███▋                 | 12/68 [00:03<00:15,  3.63it/s, loss=0.79, iou=0.175]^C\n",
      "Traceback (most recent call last):\n",
      "  File \"/data/zhouxvdong/pytorch-nested-unet/train.py\", line 387, in <module>\n",
      "    main()\n",
      "  File \"/data/zhouxvdong/pytorch-nested-unet/train.py\", line 342, in main\n",
      "    train_log = train(config, train_loader, model, criterion, optimizer)\n",
      "  File \"/data/zhouxvdong/pytorch-nested-unet/train.py\", line 157, in train\n",
      "    iou = iou_score(output, target)\n",
      "  File \"/data/zhouxvdong/pytorch-nested-unet/metrics.py\", line 10, in iou_score\n",
      "    output = torch.sigmoid(output).data.cpu().numpy()\n",
      "KeyboardInterrupt\n"
     ]
    }
   ],
   "source": [
    "!python train.py --name DRAC2022/1.IMA/train_NestedUNet_woDS --dataset DRAC2022/1.IMA/train -b 1 --epochs 100 --optimizer Adam --lr 1e-4 --min_lr 1e-9\n",
    "# !python train.py --name DRAC2022/1.IMA/train_NestedUNet_woDS --dataset DRAC2022/1.IMA/train -b 1 --optimizer Adam --epochs 100 --min_lr 1e-9 --weights ./models/DRAC2022/1.IMA/train_NestedUNet_woDS/new-model_epoch_40_loss_0.8793_iou_0.2400.pth\n",
    "# !python train.py --dataset dsb2018_96 --optimizer Adam --min_lr 1e-9"
   ]
  },
  {
   "cell_type": "markdown",
   "metadata": {},
   "source": [
    "## Validation"
   ]
  },
  {
   "cell_type": "code",
   "execution_count": 5,
   "metadata": {},
   "outputs": [
    {
     "name": "stdout",
     "output_type": "stream",
     "text": [
      "--------------------\n",
      "arch: NestedUNet\n",
      "batch_size: 4\n",
      "dataset: DRAC2022/1.IMA/train\n",
      "deep_supervision: False\n",
      "early_stopping: -1\n",
      "epochs: 40\n",
      "factor: 0.1\n",
      "gamma: 0.6666666666666666\n",
      "img_ext: .png\n",
      "input_channels: 3\n",
      "input_h: 512\n",
      "input_w: 512\n",
      "loss: BCEDiceLoss\n",
      "lr: 0.001\n",
      "mask_ext: .png\n",
      "milestones: 1,2\n",
      "min_lr: 1e-09\n",
      "momentum: 0.9\n",
      "name: DRAC2022/1.IMA/train_NestedUNet_woDS\n",
      "nesterov: False\n",
      "num_classes: 1\n",
      "num_workers: 4\n",
      "optimizer: Adam\n",
      "patience: 2\n",
      "scheduler: CosineAnnealingLR\n",
      "weight_decay: 0.0001\n",
      "weights: None\n",
      "--------------------\n",
      "=> creating model NestedUNet\n",
      "^C\n"
     ]
    }
   ],
   "source": [
    "!python val.py --name DRAC2022/1.IMA/train_NestedUNet_woDS"
   ]
  },
  {
   "cell_type": "markdown",
   "metadata": {},
   "source": [
    "## Prediction"
   ]
  },
  {
   "cell_type": "code",
   "execution_count": 11,
   "metadata": {},
   "outputs": [
    {
     "name": "stderr",
     "output_type": "stream",
     "text": [
      "100%|██████████| 65/65 [00:05<00:00, 11.73it/s]\n"
     ]
    }
   ],
   "source": [
    "import os\n",
    "from glob import glob\n",
    "import cv2\n",
    "import numpy as np\n",
    "from tqdm import tqdm\n",
    "\n",
    "img_size = 1024\n",
    "\n",
    "image_dir = './inputs/DRAC-Segmentation/1. Original Images/b. Testing Set'\n",
    "\n",
    "os.makedirs('./inputs/DRAC2022/1.IMA/test/images', exist_ok=True)\n",
    "\n",
    "image_paths = glob(os.path.join(image_dir, '*'))\n",
    "\n",
    "for imgpath in tqdm(image_paths):\n",
    "    img = cv2.imread(imgpath)\n",
    "\n",
    "    if len(img.shape) == 2:\n",
    "        img = np.tile(img[..., None], (1, 1, 3))\n",
    "    if img.shape[2] == 4:\n",
    "        img = img[..., :3]\n",
    "\n",
    "    img = cv2.resize(img, (img_size, img_size))\n",
    "    cv2.imwrite(os.path.join('inputs/DRAC2022/1.IMA/test/images', os.path.basename(imgpath)), img)"
   ]
  },
  {
   "cell_type": "code",
   "execution_count": null,
   "metadata": {},
   "outputs": [],
   "source": []
  },
  {
   "cell_type": "code",
   "execution_count": 7,
   "metadata": {},
   "outputs": [
    {
     "name": "stdout",
     "output_type": "stream",
     "text": [
      "--------------------\n",
      "arch: NestedUNet\n",
      "batch_size: 1\n",
      "dataset: DRAC2022/1.IMA/train\n",
      "deep_supervision: False\n",
      "early_stopping: -1\n",
      "epochs: 100\n",
      "factor: 0.1\n",
      "gamma: 0.1\n",
      "img_ext: .png\n",
      "input_channels: 3\n",
      "input_h: 1024\n",
      "input_w: 1024\n",
      "loss: DiceLoss\n",
      "lr: 1e-05\n",
      "mask_ext: .png\n",
      "milestones: 100\n",
      "min_lr: 1e-09\n",
      "momentum: 0.9\n",
      "name: DRAC2022/1.IMA/train_NestedUNet_woDS\n",
      "nesterov: False\n",
      "num_classes: 1\n",
      "num_workers: 4\n",
      "optimizer: Adam\n",
      "patience: 2\n",
      "scheduler: MultiStepLR\n",
      "weight_decay: 0.0001\n",
      "weights: ./models/DRAC2022/1.IMA/train_NestedUNet_woDS/Dice_model_epoch_60_loss_0.7999_iou_0.2028.pth\n",
      "--------------------\n",
      "=> creating model NestedUNet\n",
      "  0%|                                                    | 0/65 [00:00<?, ?it/s]/home/zhouxvdong/.conda/envs/neunet/lib/python3.10/site-packages/torch/nn/modules/conv.py:456: UserWarning: Applied workaround for CuDNN issue, install nvrtc.so (Triggered internally at ../aten/src/ATen/native/cudnn/Conv_v8.cpp:80.)\n",
      "  return F.conv2d(input, weight, bias, self.stride,\n",
      "100%|███████████████████████████████████████████| 65/65 [00:09<00:00,  7.18it/s]\n",
      "complete!\n"
     ]
    }
   ],
   "source": [
    "!python predict.py --name DRAC2022/1.IMA/train_NestedUNet_woDS"
   ]
  }
 ],
 "metadata": {
  "kernelspec": {
   "display_name": "neunet",
   "language": "python",
   "name": "python3"
  },
  "language_info": {
   "codemirror_mode": {
    "name": "ipython",
    "version": 3
   },
   "file_extension": ".py",
   "mimetype": "text/x-python",
   "name": "python",
   "nbconvert_exporter": "python",
   "pygments_lexer": "ipython3",
   "version": "3.10.0"
  }
 },
 "nbformat": 4,
 "nbformat_minor": 2
}
